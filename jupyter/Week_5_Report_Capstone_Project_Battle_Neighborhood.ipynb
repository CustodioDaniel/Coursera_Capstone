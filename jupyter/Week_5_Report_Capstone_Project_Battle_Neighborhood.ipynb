{
    "cells": [
        {
            "cell_type": "markdown",
            "metadata": {},
            "source": "![Header Image](https://cdn.iconscout.com/icon/free/png-256/python-12-555278.png \"header\")"
        },
        {
            "cell_type": "markdown",
            "metadata": {
                "collapsed": true
            },
            "source": "# Final Report | Capstone Project - The Battle of Neighborhoods | Finding a Familiar Place in Toronto/New York"
        },
        {
            "cell_type": "markdown",
            "metadata": {},
            "source": "## 1. Introduction"
        },
        {
            "cell_type": "markdown",
            "metadata": {},
            "source": "### 1.1 Business Proposal\nThe purpouse of this project is to help people make smart and efficient decisions when they have to move to a new city but would like to keep their lifestyle.\nTaking into account the amenities of the neighbourhoods, the project aims to provide lists of neighbourhoods that share similar characteristics between two cities.\n### 1.2 Problem to be Solved\nThe clustering of neighbourhoods across both cities based on data about the amenities present in each. The data provider used was Foursquare API.\n### 1.3 The Location\nTo ilustrate this case, the cities of New York and Toronto were chosen."
        },
        {
            "cell_type": "markdown",
            "metadata": {},
            "source": "## 2. Data Section"
        },
        {
            "cell_type": "markdown",
            "metadata": {},
            "source": "### 2.1 Initial Data Description\nToronto Neighbourhood Data Link: https://en.wikipedia.org/wiki/List_of_postal_codes_of_Canada:_M\n\nNew York Neighbourhood Data Link: https://geo.nyu.edu/catalog/nyu_2451_34572\n\nAlso, geoespacial data provided for the Toronto assignment (http://cocl.us/Geospatial_data) shall be used as the package geocoder can be unreliable for fetching latitude and longitude data.\n### 2.2 Resulting Data when Completed with Foursquare API Data\nDue to restrictions on the free subscription plan, the search perfomed on Foursquare API shall have a radius restricted do 500 meters and number of results restricted to 100 amenities per neighbourhood.\n\nThe information on each amenity stored to the dataframe shall be as follows:\n\n1. Neighborhood\n2. Neighborhood Latitude\n3. Neighborhood Longitude\n4. Venue\n5. Name of the venue e.g. the name of the amenity (a store or restaurant)\n6. Venue Latitude\n7. Venue Longitude\n8. Venue Category"
        },
        {
            "cell_type": "markdown",
            "metadata": {},
            "source": "## 3. Methodology Section"
        },
        {
            "cell_type": "markdown",
            "metadata": {},
            "source": "### 3.4 Foursquare API\nFourquare API was used considering the capabilities of the free license to use it as a prime data gathering source. \nIt has a database of millions of places, especially their places API which provides the ability to perform location search, location sharing and details about a business.\n### 3.5 Work Flow\nA dataframe was first made containing postal code and neighbourhood names for each borough of both cities. Then, this dataframe was mined on retrieving data on amenities provided by Foursquare API.\nLimitations in the free license were taken into account when selecting the maximum number of results, 100, and the radius, 500 meters, of the search around the neighbourhood coordinates.\n### 3.6 Clustering Approach\nThe unsupervised machine-learning k-means clustering algorithm was used to group similar neighbourhoods with the goal of forming 5 clusters.\nThis approach was used due to its speed and guaranteed convergence.\n### 3.7 Main Libraries Used\n- Pandas\n- Folium\n- Scikit Learn\n- JSON\n- Geocoder\n- Requests\n- Matplotlib"
        },
        {
            "cell_type": "markdown",
            "metadata": {},
            "source": "## 4. Results Section"
        },
        {
            "attachments": {},
            "cell_type": "markdown",
            "metadata": {},
            "source": "### 4.1 Map of Clusters: New York and Toronto\n<!-- ![map03.png](attachment:map03.png) -->\n![Map_01](https://raw.githubusercontent.com/CustodioDaniel/Coursera_Capstone/master/jupyter/maps/map01.jpg \"map\")\n### 4.2 Map of Clusters: detail in New York\n<!-- ![map05.png](attachment:map05.png) -->\n![Map_02](https://raw.githubusercontent.com/CustodioDaniel/Coursera_Capstone/master/jupyter/maps/map02.jpg \"map\")\n### 4.3 Map of Clusters: detail in Toronto\n<!-- ![map04.png](attachment:map04.png) -->\n![Map_03](https://raw.githubusercontent.com/CustodioDaniel/Coursera_Capstone/master/jupyter/maps/map03.jpg \"map\")"
        },
        {
            "cell_type": "markdown",
            "metadata": {},
            "source": "## 5. Discussion Section"
        },
        {
            "cell_type": "markdown",
            "metadata": {},
            "source": "For the problem we tried to solve, that is, trying to find similar neighborhoods across the cities of New York and Toronto, the results paint a vivid map of where to find similarities beween the cities.\nMoving between neighborhoods painted with the same color by the algorithm should be a good option considering the venues compared within a radius of 500 meters of each."
        },
        {
            "cell_type": "markdown",
            "metadata": {},
            "source": "## 6. Conclusion Section"
        },
        {
            "cell_type": "markdown",
            "metadata": {},
            "source": "In this Capstone Project, the unsupervised machine-learning k-means clustering algorithm was used to group similar neighbourhoods based on the most common venues in each.\nAs the maps show, someone interested in moving from New York to Toronto, for example, and looking for similar places between the cities has now a smart choice: to move from a red neighborhood from New York to a red neighborhood in Toronto, and so on.\n"
        }
    ],
    "metadata": {
        "kernelspec": {
            "display_name": "Python 3.6",
            "language": "python",
            "name": "python3"
        },
        "language_info": {
            "codemirror_mode": {
                "name": "ipython",
                "version": 3
            },
            "file_extension": ".py",
            "mimetype": "text/x-python",
            "name": "python",
            "nbconvert_exporter": "python",
            "pygments_lexer": "ipython3",
            "version": "3.6.9"
        }
    },
    "nbformat": 4,
    "nbformat_minor": 1
}