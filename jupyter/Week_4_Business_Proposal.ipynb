{
    "cells": [
        {
            "cell_type": "markdown",
            "metadata": {},
            "source": "![Header Image](https://cdn.iconscout.com/icon/free/png-256/python-12-555278.png \"header\")"
        },
        {
            "cell_type": "markdown",
            "metadata": {
                "collapsed": true
            },
            "source": "# The Battle of the Neighbourhoods: Week 1"
        },
        {
            "cell_type": "markdown",
            "metadata": {},
            "source": "## Introduction to the Business Proposal"
        },
        {
            "cell_type": "markdown",
            "metadata": {},
            "source": "The purpouse of this project is to help people make smart and efficient decisions when they have to move to a new city but would like to keep their lifestyle.\nTaking into account the amenities of the neighbourhoods, the project aims to provide lists of neighbourhoods that share similar characteristics between two cities."
        },
        {
            "cell_type": "markdown",
            "metadata": {},
            "source": "## Problem to be Solved"
        },
        {
            "cell_type": "markdown",
            "metadata": {},
            "source": "The clustering of neighbourhoods across both cities based on data about the amenities present in each. The data provider to be used shall be Foursquare API."
        },
        {
            "cell_type": "markdown",
            "metadata": {},
            "source": "## The Location"
        },
        {
            "cell_type": "markdown",
            "metadata": {},
            "source": "To ilustrate this case, the cities of New York and Toronto are chosen."
        },
        {
            "cell_type": "markdown",
            "metadata": {},
            "source": "## Foursquare API"
        },
        {
            "cell_type": "markdown",
            "metadata": {},
            "source": "Fourquare API shall be used considering the capabilities of the free license to use it as a prime data gathering source. \nIt has a database of millions of places, especially their places API which provides the ability to perform location search, location sharing and details about a business."
        },
        {
            "cell_type": "markdown",
            "metadata": {},
            "source": "## Work Flow"
        },
        {
            "cell_type": "markdown",
            "metadata": {},
            "source": "A dataframe shall be made containing postal code and neighbourhood names for each borough of both cities. Then, this dataframe is to be mined after receiving data on amenities provided by Foursquare API.\nLimitations in the free license are to be taking into account when selecting the maximum number of results and the radius of the search around the neighbourhood coordinates."
        },
        {
            "cell_type": "markdown",
            "metadata": {},
            "source": "## Clustering Approach"
        },
        {
            "cell_type": "markdown",
            "metadata": {},
            "source": "The unsupervised machine-learning k-means clustering algorithm shall be used to group similar neighbourhoods."
        },
        {
            "cell_type": "markdown",
            "metadata": {},
            "source": "## Main Libraries Used"
        },
        {
            "cell_type": "markdown",
            "metadata": {},
            "source": "- Pandas\n- Folium\n- Scikit Learn\n- JSON\n- Geocoder\n- Requests\n- Matplotlib"
        }
    ],
    "metadata": {
        "kernelspec": {
            "display_name": "Python 3.6",
            "language": "python",
            "name": "python3"
        },
        "language_info": {
            "codemirror_mode": {
                "name": "ipython",
                "version": 3
            },
            "file_extension": ".py",
            "mimetype": "text/x-python",
            "name": "python",
            "nbconvert_exporter": "python",
            "pygments_lexer": "ipython3",
            "version": "3.6.9"
        }
    },
    "nbformat": 4,
    "nbformat_minor": 1
}