{
    "cells": [
        {
            "cell_type": "markdown",
            "metadata": {
                "collapsed": true
            },
            "source": "# The Battle of the Neighbourhoods: Week 1"
        },
        {
            "cell_type": "markdown",
            "metadata": {},
            "source": "## Initial Data Description"
        },
        {
            "cell_type": "markdown",
            "metadata": {},
            "source": "Toronto Neighbourhood Data Link: https://en.wikipedia.org/wiki/List_of_postal_codes_of_Canada:_M\n\nNew York Neighbourhood Data Link: https://geo.nyu.edu/catalog/nyu_2451_34572\n\nAlso, geoespacial data provided for the Toronto assignment (http://cocl.us/Geospatial_data) shall be used as the package geocoder can be unreliable for fetching latitude and longitude data."
        },
        {
            "cell_type": "markdown",
            "metadata": {},
            "source": "## Resulting Data when Completed with Foursquare API Data"
        },
        {
            "cell_type": "markdown",
            "metadata": {},
            "source": "Due to restrictions on the free subscription plan, the searched perfomed on Foursquare API shall have a radius restricted do 500 meters and number of results restricted to 100 amenities.\n\nThe information stored to the dataframe shall be as follows:\n\n1. Neighborhood\n2. Neighborhood Latitude\n3. Neighborhood Longitude\n4. Venue\n5. Name of the venue e.g. the name of the amenity (a store or restaurant)\n6. Venue Latitude\n7. Venue Longitude\n8. Venue Category"
        }
    ],
    "metadata": {
        "kernelspec": {
            "display_name": "Python 3.6",
            "language": "python",
            "name": "python3"
        },
        "language_info": {
            "codemirror_mode": {
                "name": "ipython",
                "version": 3
            },
            "file_extension": ".py",
            "mimetype": "text/x-python",
            "name": "python",
            "nbconvert_exporter": "python",
            "pygments_lexer": "ipython3",
            "version": "3.6.9"
        }
    },
    "nbformat": 4,
    "nbformat_minor": 1
}